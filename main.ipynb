{
 "cells": [
  {
   "cell_type": "code",
   "execution_count": 2,
   "id": "74bb9d1c",
   "metadata": {},
   "outputs": [],
   "source": [
    "import json"
   ]
  },
  {
   "cell_type": "code",
   "execution_count": 3,
   "id": "f02ae47a",
   "metadata": {},
   "outputs": [],
   "source": [
    "record = {100 : {\"name\": \"Banana\", \"exp_date\": \"10/09/2021\", \"category\": \"Fruits\", \"price\": 30, \"Qty\": 200},\n",
    "          101 : {\"name\": \"carrot\", \"exp_date\": \"14/09/2021\", \"category\": \"Veg\", \"price\": 60, \"Qty\": 500}, \n",
    "          102 : {\"name\": \"onion\", \"exp_date\": \"12/09/2021\", \"category\": \"Veg\", \"price\": 40, \"Qty\": 320}, \n",
    "         103 : {\"name\": \"Tshit\", \"exp_date\": \"16/09/2026\", \"category\": \"Fashion\", \"price\": 56, \"Qty\": 220}, \n",
    "         104 : {\"name\": \"Shirt\", \"exp_date\": \"12/12/2025\", \"category\": \"Fashion\", \"price\": 43, \"Qty\": 620}, \n",
    "         105 : {\"name\": \"Jeans\", \"exp_date\": \"12/04/2026\", \"category\": \"Fashion\", \"price\": 33, \"Qty\": 720}, \n",
    "         106 : {\"name\": \"Denim Jacket\", \"exp_date\": \"02/04/2026\", \"category\": \"Fashion\", \"price\": 33, \"Qty\": 120}, \n",
    "         107 : {\"name\": \"FacePack\", \"exp_date\": \"04/04/2022\", \"category\": \"BodyProd\", \"price\": 74, \"Qty\": 542}, \n",
    "         108 : {\"name\": \"FaceWash\", \"exp_date\": \"06/09/2022\", \"category\": \"BodyProd\", \"price\": 95, \"Qty\": 325}, \n",
    "         109 : {\"name\": \"Body lotion\", \"exp_date\": \"02/11/2022\", \"category\": \"BodyProd\", \"price\": 54, \"Qty\": 323}, \n",
    "         110 : {\"name\": \"lipstick\", \"exp_date\": \"09/12/2021\", \"category\": \"BodyProd\", \"price\": 43, \"Qty\": 55}, \n",
    "         111 : {\"name\": \"Face Powder\", \"exp_date\": \"12/09/2021\", \"category\": \"BodyProd\", \"price\": 65, \"Qty\": 788}, \n",
    "         112 : {\"name\": \"Cream\", \"exp_date\": \"12/09/2021\", \"category\": \"BodyProd\", \"price\": 54, \"Qty\": 98}, \n",
    "         113 : {\"name\": \"Shampoo\", \"exp_date\": \"12/09/2021\", \"category\": \"BodyProd\", \"price\": 32, \"Qty\": 677}, \n",
    "         114 : {\"name\": \"Lotion\", \"exp_date\": \"12/09/2021\", \"category\": \"BodyProd\", \"price\": 78, \"Qty\": 876}, \n",
    "         115 : {\"name\": \"Kitkat\", \"exp_date\": \"12/04/2022\", \"category\": \"Chocolate\", \"price\": 70, \"Qty\": 420}, \n",
    "         116 : {\"name\": \"DairyMilk\", \"exp_date\": \"09/10/2022\", \"category\": \"Chocolate\", \"price\": 30, \"Qty\": 520}, \n",
    "         117 : {\"name\": \"5Star\", \"exp_date\": \"05/09/2022\", \"category\": \"Chocolate\", \"price\": 20, \"Qty\": 50}, \n",
    "         118 : {\"name\": \"Park\", \"exp_date\": \"07/09/2022\", \"category\": \"Chocolate\", \"price\": 30, \"Qty\": 550}, \n",
    "         119 : {\"name\": \"Munch\", \"exp_date\": \"08/09/2022\", \"category\": \"Chocolate\", \"price\": 20, \"Qty\": 370}, \n",
    "         120 : {\"name\": \"Nike\", \"exp_date\": \"07/12/2034\", \"category\": \"Shoes\", \"price\": 11000, \"Qty\": 35}, \n",
    "         121 : {\"name\": \"Adidas\", \"exp_date\": \"07/12/2034\", \"category\": \"Shoes\", \"price\": 12000, \"Qty\": 31}, \n",
    "         122 : {\"name\": \"Reebok\", \"exp_date\": \"07/12/2034\", \"category\": \"Shoes\", \"price\": 16000, \"Qty\": 340}, \n",
    "         123 : {\"name\": \"CR7\", \"exp_date\": \"07/12/2034\", \"category\": \"Shoes\", \"price\": 31000, \"Qty\": 34}, \n",
    "         124 : {\"name\": \"HRX\", \"exp_date\": \"07/12/2034\", \"category\": \"Shoes\", \"price\": 14000, \"Qty\": 32}, \n",
    "         125 : {\"name\": \"Asics\", \"exp_date\": \"07/12/2034\", \"category\": \"Shoes\", \"price\": 41000, \"Qty\": 40}, \n",
    "         126 : {\"name\": \"Pablo\", \"exp_date\": \"07/12/2034\", \"category\": \"Shoes\", \"price\": 33000, \"Qty\": 140}, \n",
    "         127 : {\"name\": \"Iphone\", \"exp_date\": \"09/11/2040\", \"category\": \"smartphones\", \"price\": 90000, \"Qty\": 12}, \n",
    "         128 : {\"name\": \"Samsung\", \"exp_date\": \"09/11/2040\", \"category\": \"smartphones\", \"price\": 65000, \"Qty\": 20}, \n",
    "         129 : {\"name\": \"Vivo\", \"exp_date\": \"09/11/2040\", \"category\": \"smartphones\", \"price\": 44000, \"Qty\": 300}, \n",
    "         130 : {\"name\": \"Redmi\", \"exp_date\": \"09/11/2040\", \"category\": \"smartphones\", \"price\": 24000, \"Qty\": 120}}"
   ]
  },
  {
   "cell_type": "code",
   "execution_count": 4,
   "id": "1f1895fc",
   "metadata": {},
   "outputs": [
    {
     "data": {
      "text/plain": [
       "{'name': 'Banana',\n",
       " 'exp_date': '10/09/2021',\n",
       " 'category': 'Fruits',\n",
       " 'price': 30,\n",
       " 'Qty': 200}"
      ]
     },
     "execution_count": 4,
     "metadata": {},
     "output_type": "execute_result"
    }
   ],
   "source": [
    "record[100]"
   ]
  },
  {
   "cell_type": "code",
   "execution_count": 6,
   "id": "eb50c270",
   "metadata": {},
   "outputs": [
    {
     "name": "stdout",
     "output_type": "stream",
     "text": [
      "Enter Product ID: 100\n",
      "Enter Quantity: 0\n",
      "...............................\n",
      "Prod ID:  100\n",
      "Name:  Banana\n",
      "Price:  30\n",
      "Category:  Fruits\n",
      "Expiry Date:  10/09/2021\n",
      "...............................\n",
      "Billing Amount:  0\n",
      "...............................\n"
     ]
    }
   ],
   "source": [
    "# BILLING From Counter\n",
    "ui_prod = int(input(\"Enter Product ID: \"))\n",
    "ui_quant = int(input(\"Enter Quantity: \"))\n",
    "\n",
    "for i in record:\n",
    "#     print(i,record[i])\n",
    "    \n",
    "    if(ui_prod == i):\n",
    "        print(\"...............................\")\n",
    "        print(\"Prod ID: \",i)\n",
    "        print(\"Name: \",record[i]['name'])\n",
    "        print(\"Price: \",record[i]['price'])\n",
    "        print(\"Category: \",record[i]['category'])\n",
    "        print(\"Expiry Date: \",record[i]['exp_date'])\n",
    "        print(\"...............................\")\n",
    "        print(\"Billing Amount: \", record[i]['price'] * ui_quant)\n",
    "        print(\"...............................\")"
   ]
  },
  {
   "cell_type": "code",
   "execution_count": 124,
   "id": "df06b5f9",
   "metadata": {},
   "outputs": [
    {
     "data": {
      "text/plain": [
       "500"
      ]
     },
     "execution_count": 124,
     "metadata": {},
     "output_type": "execute_result"
    }
   ],
   "source": [
    "record[101]['Qty']"
   ]
  },
  {
   "cell_type": "code",
   "execution_count": 128,
   "id": "26f5a8bb",
   "metadata": {},
   "outputs": [],
   "source": [
    "# Sales Record Updated\n",
    "new_record = []\n",
    "\n",
    "for i in record:\n",
    "#     prod = i.split(\",\")\n",
    "    if(ui_prod == i):\n",
    "        record[i]['Qty'] = (int(record[i]['Qty']) - ui_quant)\n",
    "        \n",
    "    new_record.append(str(i) + \",\" + record[i]['name'] + \",\" + str(record[i]['exp_date']) + \",\" + record[i]['category'] + \",\" + str(record[i]['price']) + \",\" + str(record[i]['Qty']) + \"\\n\")\n",
    "new_record[-1] = new_record[-1][:-1]"
   ]
  },
  {
   "cell_type": "code",
   "execution_count": 129,
   "id": "c08a6d20",
   "metadata": {},
   "outputs": [
    {
     "data": {
      "text/plain": [
       "['100,Banana,10/09/2021,Fruits,30,200\\n',\n",
       " '101,carrot,14/09/2021,Veg,60,500\\n',\n",
       " '102,onion,12/09/2021,Veg,40,320\\n',\n",
       " '103,Tshit,16/09/2026,Fashion,56,220\\n',\n",
       " '104,Shirt,12/12/2025,Fashion,43,620\\n',\n",
       " '105,Jeans,12/04/2026,Fashion,33,720\\n',\n",
       " '106,Denim Jacket,02/04/2026,Fashion,33,120\\n',\n",
       " '107,FacePack,04/04/2022,BodyProd,74,542\\n',\n",
       " '108,FaceWash,06/09/2022,BodyProd,95,325\\n',\n",
       " '109,Body lotion,02/11/2022,BodyProd,54,323\\n',\n",
       " '110,lipstick,09/12/2021,BodyProd,43,55\\n',\n",
       " '111,Face Powder,12/09/2021,BodyProd,65,788\\n',\n",
       " '112,Cream,12/09/2021,BodyProd,54,98\\n',\n",
       " '113,Shampoo,12/09/2021,BodyProd,32,677\\n',\n",
       " '114,Lotion,12/09/2021,BodyProd,78,876\\n',\n",
       " '115,Kitkat,12/04/2022,Chocolate,70,420\\n',\n",
       " '116,DairyMilk,09/10/2022,Chocolate,30,520\\n',\n",
       " '117,5Star,05/09/2022,Chocolate,20,50\\n',\n",
       " '118,Park,07/09/2022,Chocolate,30,550\\n',\n",
       " '119,Munch,08/09/2022,Chocolate,20,370\\n',\n",
       " '120,Nike,07/12/2034,Shoes,11000,35\\n',\n",
       " '121,Adidas,07/12/2034,Shoes,12000,31\\n',\n",
       " '122,Reebok,07/12/2034,Shoes,16000,340\\n',\n",
       " '123,CR7,07/12/2034,Shoes,31000,34\\n',\n",
       " '124,HRX,07/12/2034,Shoes,14000,32\\n',\n",
       " '125,Asics,07/12/2034,Shoes,41000,40\\n',\n",
       " '126,Pablo,07/12/2034,Shoes,33000,140\\n',\n",
       " '127,Iphone,09/11/2040,smartphones,90000,12\\n',\n",
       " '128,Samsung,09/11/2040,smartphones,65000,20\\n',\n",
       " '129,Vivo,09/11/2040,smartphones,44000,300\\n',\n",
       " '130,Redmi,09/11/2040,smartphones,24000,120']"
      ]
     },
     "execution_count": 129,
     "metadata": {},
     "output_type": "execute_result"
    }
   ],
   "source": [
    "new_record"
   ]
  },
  {
   "cell_type": "code",
   "execution_count": 130,
   "id": "bfb4c09b",
   "metadata": {},
   "outputs": [],
   "source": [
    "fd = open(\"updatedRecord.json\", 'w')\n",
    "\n",
    "for i in new_record:\n",
    "    fd.write(i)\n",
    "\n",
    "fd.close()"
   ]
  },
  {
   "cell_type": "code",
   "execution_count": 131,
   "id": "6c00b3d5",
   "metadata": {},
   "outputs": [],
   "source": [
    "js = json.dumps(record)"
   ]
  },
  {
   "cell_type": "code",
   "execution_count": 132,
   "id": "6835d10c",
   "metadata": {},
   "outputs": [
    {
     "data": {
      "text/plain": [
       "'{\"100\": {\"name\": \"Banana\", \"exp_date\": \"10/09/2021\", \"category\": \"Fruits\", \"price\": 30, \"Qty\": 200}, \"101\": {\"name\": \"carrot\", \"exp_date\": \"14/09/2021\", \"category\": \"Veg\", \"price\": 60, \"Qty\": 500}, \"102\": {\"name\": \"onion\", \"exp_date\": \"12/09/2021\", \"category\": \"Veg\", \"price\": 40, \"Qty\": 320}, \"103\": {\"name\": \"Tshit\", \"exp_date\": \"16/09/2026\", \"category\": \"Fashion\", \"price\": 56, \"Qty\": 220}, \"104\": {\"name\": \"Shirt\", \"exp_date\": \"12/12/2025\", \"category\": \"Fashion\", \"price\": 43, \"Qty\": 620}, \"105\": {\"name\": \"Jeans\", \"exp_date\": \"12/04/2026\", \"category\": \"Fashion\", \"price\": 33, \"Qty\": 720}, \"106\": {\"name\": \"Denim Jacket\", \"exp_date\": \"02/04/2026\", \"category\": \"Fashion\", \"price\": 33, \"Qty\": 120}, \"107\": {\"name\": \"FacePack\", \"exp_date\": \"04/04/2022\", \"category\": \"BodyProd\", \"price\": 74, \"Qty\": 542}, \"108\": {\"name\": \"FaceWash\", \"exp_date\": \"06/09/2022\", \"category\": \"BodyProd\", \"price\": 95, \"Qty\": 325}, \"109\": {\"name\": \"Body lotion\", \"exp_date\": \"02/11/2022\", \"category\": \"BodyProd\", \"price\": 54, \"Qty\": 323}, \"110\": {\"name\": \"lipstick\", \"exp_date\": \"09/12/2021\", \"category\": \"BodyProd\", \"price\": 43, \"Qty\": 55}, \"111\": {\"name\": \"Face Powder\", \"exp_date\": \"12/09/2021\", \"category\": \"BodyProd\", \"price\": 65, \"Qty\": 788}, \"112\": {\"name\": \"Cream\", \"exp_date\": \"12/09/2021\", \"category\": \"BodyProd\", \"price\": 54, \"Qty\": 98}, \"113\": {\"name\": \"Shampoo\", \"exp_date\": \"12/09/2021\", \"category\": \"BodyProd\", \"price\": 32, \"Qty\": 677}, \"114\": {\"name\": \"Lotion\", \"exp_date\": \"12/09/2021\", \"category\": \"BodyProd\", \"price\": 78, \"Qty\": 876}, \"115\": {\"name\": \"Kitkat\", \"exp_date\": \"12/04/2022\", \"category\": \"Chocolate\", \"price\": 70, \"Qty\": 420}, \"116\": {\"name\": \"DairyMilk\", \"exp_date\": \"09/10/2022\", \"category\": \"Chocolate\", \"price\": 30, \"Qty\": 520}, \"117\": {\"name\": \"5Star\", \"exp_date\": \"05/09/2022\", \"category\": \"Chocolate\", \"price\": 20, \"Qty\": 50}, \"118\": {\"name\": \"Park\", \"exp_date\": \"07/09/2022\", \"category\": \"Chocolate\", \"price\": 30, \"Qty\": 550}, \"119\": {\"name\": \"Munch\", \"exp_date\": \"08/09/2022\", \"category\": \"Chocolate\", \"price\": 20, \"Qty\": 370}, \"120\": {\"name\": \"Nike\", \"exp_date\": \"07/12/2034\", \"category\": \"Shoes\", \"price\": 11000, \"Qty\": 35}, \"121\": {\"name\": \"Adidas\", \"exp_date\": \"07/12/2034\", \"category\": \"Shoes\", \"price\": 12000, \"Qty\": 31}, \"122\": {\"name\": \"Reebok\", \"exp_date\": \"07/12/2034\", \"category\": \"Shoes\", \"price\": 16000, \"Qty\": 340}, \"123\": {\"name\": \"CR7\", \"exp_date\": \"07/12/2034\", \"category\": \"Shoes\", \"price\": 31000, \"Qty\": 34}, \"124\": {\"name\": \"HRX\", \"exp_date\": \"07/12/2034\", \"category\": \"Shoes\", \"price\": 14000, \"Qty\": 32}, \"125\": {\"name\": \"Asics\", \"exp_date\": \"07/12/2034\", \"category\": \"Shoes\", \"price\": 41000, \"Qty\": 40}, \"126\": {\"name\": \"Pablo\", \"exp_date\": \"07/12/2034\", \"category\": \"Shoes\", \"price\": 33000, \"Qty\": 140}, \"127\": {\"name\": \"Iphone\", \"exp_date\": \"09/11/2040\", \"category\": \"smartphones\", \"price\": 90000, \"Qty\": 12}, \"128\": {\"name\": \"Samsung\", \"exp_date\": \"09/11/2040\", \"category\": \"smartphones\", \"price\": 65000, \"Qty\": 20}, \"129\": {\"name\": \"Vivo\", \"exp_date\": \"09/11/2040\", \"category\": \"smartphones\", \"price\": 44000, \"Qty\": 300}, \"130\": {\"name\": \"Redmi\", \"exp_date\": \"09/11/2040\", \"category\": \"smartphones\", \"price\": 24000, \"Qty\": 120}}'"
      ]
     },
     "execution_count": 132,
     "metadata": {},
     "output_type": "execute_result"
    }
   ],
   "source": [
    "js"
   ]
  },
  {
   "cell_type": "code",
   "execution_count": 133,
   "id": "3d940eb9",
   "metadata": {},
   "outputs": [],
   "source": [
    "fd = open(\"Inventory.json\", 'w')\n",
    "\n",
    "item_aval = fd.write(js)\n",
    "\n",
    "fd.close()"
   ]
  },
  {
   "cell_type": "code",
   "execution_count": 134,
   "id": "30f5a36b",
   "metadata": {},
   "outputs": [],
   "source": [
    "fd = open(\"Inventory.json\", 'r')\n",
    "\n",
    "txt = fd.read()\n",
    "\n",
    "fd.close()"
   ]
  },
  {
   "cell_type": "code",
   "execution_count": 135,
   "id": "6b67d411",
   "metadata": {},
   "outputs": [],
   "source": [
    "record = json.loads(txt)"
   ]
  },
  {
   "cell_type": "code",
   "execution_count": 136,
   "id": "8d3cc5b6",
   "metadata": {},
   "outputs": [
    {
     "data": {
      "text/plain": [
       "{'100': {'name': 'Banana',\n",
       "  'exp_date': '10/09/2021',\n",
       "  'category': 'Fruits',\n",
       "  'price': 30,\n",
       "  'Qty': 200},\n",
       " '101': {'name': 'carrot',\n",
       "  'exp_date': '14/09/2021',\n",
       "  'category': 'Veg',\n",
       "  'price': 60,\n",
       "  'Qty': 500},\n",
       " '102': {'name': 'onion',\n",
       "  'exp_date': '12/09/2021',\n",
       "  'category': 'Veg',\n",
       "  'price': 40,\n",
       "  'Qty': 320},\n",
       " '103': {'name': 'Tshit',\n",
       "  'exp_date': '16/09/2026',\n",
       "  'category': 'Fashion',\n",
       "  'price': 56,\n",
       "  'Qty': 220},\n",
       " '104': {'name': 'Shirt',\n",
       "  'exp_date': '12/12/2025',\n",
       "  'category': 'Fashion',\n",
       "  'price': 43,\n",
       "  'Qty': 620},\n",
       " '105': {'name': 'Jeans',\n",
       "  'exp_date': '12/04/2026',\n",
       "  'category': 'Fashion',\n",
       "  'price': 33,\n",
       "  'Qty': 720},\n",
       " '106': {'name': 'Denim Jacket',\n",
       "  'exp_date': '02/04/2026',\n",
       "  'category': 'Fashion',\n",
       "  'price': 33,\n",
       "  'Qty': 120},\n",
       " '107': {'name': 'FacePack',\n",
       "  'exp_date': '04/04/2022',\n",
       "  'category': 'BodyProd',\n",
       "  'price': 74,\n",
       "  'Qty': 542},\n",
       " '108': {'name': 'FaceWash',\n",
       "  'exp_date': '06/09/2022',\n",
       "  'category': 'BodyProd',\n",
       "  'price': 95,\n",
       "  'Qty': 325},\n",
       " '109': {'name': 'Body lotion',\n",
       "  'exp_date': '02/11/2022',\n",
       "  'category': 'BodyProd',\n",
       "  'price': 54,\n",
       "  'Qty': 323},\n",
       " '110': {'name': 'lipstick',\n",
       "  'exp_date': '09/12/2021',\n",
       "  'category': 'BodyProd',\n",
       "  'price': 43,\n",
       "  'Qty': 55},\n",
       " '111': {'name': 'Face Powder',\n",
       "  'exp_date': '12/09/2021',\n",
       "  'category': 'BodyProd',\n",
       "  'price': 65,\n",
       "  'Qty': 788},\n",
       " '112': {'name': 'Cream',\n",
       "  'exp_date': '12/09/2021',\n",
       "  'category': 'BodyProd',\n",
       "  'price': 54,\n",
       "  'Qty': 98},\n",
       " '113': {'name': 'Shampoo',\n",
       "  'exp_date': '12/09/2021',\n",
       "  'category': 'BodyProd',\n",
       "  'price': 32,\n",
       "  'Qty': 677},\n",
       " '114': {'name': 'Lotion',\n",
       "  'exp_date': '12/09/2021',\n",
       "  'category': 'BodyProd',\n",
       "  'price': 78,\n",
       "  'Qty': 876},\n",
       " '115': {'name': 'Kitkat',\n",
       "  'exp_date': '12/04/2022',\n",
       "  'category': 'Chocolate',\n",
       "  'price': 70,\n",
       "  'Qty': 420},\n",
       " '116': {'name': 'DairyMilk',\n",
       "  'exp_date': '09/10/2022',\n",
       "  'category': 'Chocolate',\n",
       "  'price': 30,\n",
       "  'Qty': 520},\n",
       " '117': {'name': '5Star',\n",
       "  'exp_date': '05/09/2022',\n",
       "  'category': 'Chocolate',\n",
       "  'price': 20,\n",
       "  'Qty': 50},\n",
       " '118': {'name': 'Park',\n",
       "  'exp_date': '07/09/2022',\n",
       "  'category': 'Chocolate',\n",
       "  'price': 30,\n",
       "  'Qty': 550},\n",
       " '119': {'name': 'Munch',\n",
       "  'exp_date': '08/09/2022',\n",
       "  'category': 'Chocolate',\n",
       "  'price': 20,\n",
       "  'Qty': 370},\n",
       " '120': {'name': 'Nike',\n",
       "  'exp_date': '07/12/2034',\n",
       "  'category': 'Shoes',\n",
       "  'price': 11000,\n",
       "  'Qty': 35},\n",
       " '121': {'name': 'Adidas',\n",
       "  'exp_date': '07/12/2034',\n",
       "  'category': 'Shoes',\n",
       "  'price': 12000,\n",
       "  'Qty': 31},\n",
       " '122': {'name': 'Reebok',\n",
       "  'exp_date': '07/12/2034',\n",
       "  'category': 'Shoes',\n",
       "  'price': 16000,\n",
       "  'Qty': 340},\n",
       " '123': {'name': 'CR7',\n",
       "  'exp_date': '07/12/2034',\n",
       "  'category': 'Shoes',\n",
       "  'price': 31000,\n",
       "  'Qty': 34},\n",
       " '124': {'name': 'HRX',\n",
       "  'exp_date': '07/12/2034',\n",
       "  'category': 'Shoes',\n",
       "  'price': 14000,\n",
       "  'Qty': 32},\n",
       " '125': {'name': 'Asics',\n",
       "  'exp_date': '07/12/2034',\n",
       "  'category': 'Shoes',\n",
       "  'price': 41000,\n",
       "  'Qty': 40},\n",
       " '126': {'name': 'Pablo',\n",
       "  'exp_date': '07/12/2034',\n",
       "  'category': 'Shoes',\n",
       "  'price': 33000,\n",
       "  'Qty': 140},\n",
       " '127': {'name': 'Iphone',\n",
       "  'exp_date': '09/11/2040',\n",
       "  'category': 'smartphones',\n",
       "  'price': 90000,\n",
       "  'Qty': 12},\n",
       " '128': {'name': 'Samsung',\n",
       "  'exp_date': '09/11/2040',\n",
       "  'category': 'smartphones',\n",
       "  'price': 65000,\n",
       "  'Qty': 20},\n",
       " '129': {'name': 'Vivo',\n",
       "  'exp_date': '09/11/2040',\n",
       "  'category': 'smartphones',\n",
       "  'price': 44000,\n",
       "  'Qty': 300},\n",
       " '130': {'name': 'Redmi',\n",
       "  'exp_date': '09/11/2040',\n",
       "  'category': 'smartphones',\n",
       "  'price': 24000,\n",
       "  'Qty': 120}}"
      ]
     },
     "execution_count": 136,
     "metadata": {},
     "output_type": "execute_result"
    }
   ],
   "source": [
    "record"
   ]
  },
  {
   "cell_type": "code",
   "execution_count": 137,
   "id": "ea827bc2",
   "metadata": {},
   "outputs": [
    {
     "data": {
      "text/plain": [
       "{'name': 'Banana',\n",
       " 'exp_date': '10/09/2021',\n",
       " 'category': 'Fruits',\n",
       " 'price': 30,\n",
       " 'Qty': 200}"
      ]
     },
     "execution_count": 137,
     "metadata": {},
     "output_type": "execute_result"
    }
   ],
   "source": [
    "record['100']"
   ]
  },
  {
   "cell_type": "code",
   "execution_count": null,
   "id": "9af051ff",
   "metadata": {},
   "outputs": [],
   "source": []
  }
 ],
 "metadata": {
  "kernelspec": {
   "display_name": "Python 3",
   "language": "python",
   "name": "python3"
  },
  "language_info": {
   "codemirror_mode": {
    "name": "ipython",
    "version": 3
   },
   "file_extension": ".py",
   "mimetype": "text/x-python",
   "name": "python",
   "nbconvert_exporter": "python",
   "pygments_lexer": "ipython3",
   "version": "3.8.8"
  }
 },
 "nbformat": 4,
 "nbformat_minor": 5
}
